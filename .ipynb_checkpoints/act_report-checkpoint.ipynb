{
 "cells": [
  {
   "cell_type": "code",
   "execution_count": 1,
   "metadata": {},
   "outputs": [],
   "source": [
    "import pandas as pd\n",
    "import matplotlib.pyplot as plt"
   ]
  },
  {
   "cell_type": "code",
   "execution_count": 2,
   "metadata": {},
   "outputs": [
    {
     "data": {
      "text/html": [
       "<div>\n",
       "<style scoped>\n",
       "    .dataframe tbody tr th:only-of-type {\n",
       "        vertical-align: middle;\n",
       "    }\n",
       "\n",
       "    .dataframe tbody tr th {\n",
       "        vertical-align: top;\n",
       "    }\n",
       "\n",
       "    .dataframe thead th {\n",
       "        text-align: right;\n",
       "    }\n",
       "</style>\n",
       "<table border=\"1\" class=\"dataframe\">\n",
       "  <thead>\n",
       "    <tr style=\"text-align: right;\">\n",
       "      <th></th>\n",
       "      <th>Unnamed: 0</th>\n",
       "      <th>tweet_id</th>\n",
       "      <th>source</th>\n",
       "      <th>text</th>\n",
       "      <th>rating_numerator</th>\n",
       "      <th>name</th>\n",
       "      <th>tweet_id</th>\n",
       "      <th>Dog_state</th>\n",
       "      <th>retweet_count</th>\n",
       "      <th>favorite_count</th>\n",
       "      <th>Month_start</th>\n",
       "      <th>Year_start</th>\n",
       "      <th>jpg_url</th>\n",
       "      <th>p1</th>\n",
       "      <th>p1_conf</th>\n",
       "      <th>p2</th>\n",
       "      <th>p2_conf</th>\n",
       "      <th>p3</th>\n",
       "      <th>p3_conf</th>\n",
       "    </tr>\n",
       "  </thead>\n",
       "  <tbody>\n",
       "    <tr>\n",
       "      <th>0</th>\n",
       "      <td>0</td>\n",
       "      <td>892177421306343426</td>\n",
       "      <td>http://twitter.com/download/iphone</td>\n",
       "      <td>This is Tilly. She's just checking pup on you....</td>\n",
       "      <td>13</td>\n",
       "      <td>Tilly</td>\n",
       "      <td>892177421306343426</td>\n",
       "      <td>None</td>\n",
       "      <td>6199</td>\n",
       "      <td>32846</td>\n",
       "      <td>Aug</td>\n",
       "      <td>2017</td>\n",
       "      <td>https://pbs.twimg.com/media/DGGmoV4XsAAUL6n.jpg</td>\n",
       "      <td>CHIHUAHUA</td>\n",
       "      <td>0.323581</td>\n",
       "      <td>PEKINESE</td>\n",
       "      <td>0.090647</td>\n",
       "      <td>PAPILLON</td>\n",
       "      <td>0.068957</td>\n",
       "    </tr>\n",
       "    <tr>\n",
       "      <th>1</th>\n",
       "      <td>1</td>\n",
       "      <td>891815181378084864</td>\n",
       "      <td>http://twitter.com/download/iphone</td>\n",
       "      <td>This is Archie. He is a rare Norwegian Pouncin...</td>\n",
       "      <td>12</td>\n",
       "      <td>Archie</td>\n",
       "      <td>891815181378084864</td>\n",
       "      <td>None</td>\n",
       "      <td>4101</td>\n",
       "      <td>24743</td>\n",
       "      <td>Jul</td>\n",
       "      <td>2017</td>\n",
       "      <td>https://pbs.twimg.com/media/DGBdLU1WsAANxJ9.jpg</td>\n",
       "      <td>CHIHUAHUA</td>\n",
       "      <td>0.716012</td>\n",
       "      <td>MALAMUTE</td>\n",
       "      <td>0.078253</td>\n",
       "      <td>KELPIE</td>\n",
       "      <td>0.031379</td>\n",
       "    </tr>\n",
       "    <tr>\n",
       "      <th>2</th>\n",
       "      <td>2</td>\n",
       "      <td>891327558926688256</td>\n",
       "      <td>http://twitter.com/download/iphone</td>\n",
       "      <td>This is Franklin. He would like you to stop ca...</td>\n",
       "      <td>12</td>\n",
       "      <td>Franklin</td>\n",
       "      <td>891327558926688256</td>\n",
       "      <td>None</td>\n",
       "      <td>9265</td>\n",
       "      <td>39842</td>\n",
       "      <td>Jul</td>\n",
       "      <td>2017</td>\n",
       "      <td>https://pbs.twimg.com/media/DF6hr6BUMAAzZgT.jpg</td>\n",
       "      <td>BASSET</td>\n",
       "      <td>0.555712</td>\n",
       "      <td>ENGLISH_SPRINGER</td>\n",
       "      <td>0.225770</td>\n",
       "      <td>GERMAN_SHORT-HAIRED_POINTER</td>\n",
       "      <td>0.175219</td>\n",
       "    </tr>\n",
       "    <tr>\n",
       "      <th>3</th>\n",
       "      <td>3</td>\n",
       "      <td>890609185150312448</td>\n",
       "      <td>http://twitter.com/download/iphone</td>\n",
       "      <td>This is Zoey. She doesn't want to be one of th...</td>\n",
       "      <td>13</td>\n",
       "      <td>Zoey</td>\n",
       "      <td>890609185150312448</td>\n",
       "      <td>None</td>\n",
       "      <td>4217</td>\n",
       "      <td>27504</td>\n",
       "      <td>Jul</td>\n",
       "      <td>2017</td>\n",
       "      <td>https://pbs.twimg.com/media/DFwUU__XcAEpyXI.jpg</td>\n",
       "      <td>IRISH_TERRIER</td>\n",
       "      <td>0.487574</td>\n",
       "      <td>IRISH_SETTER</td>\n",
       "      <td>0.193054</td>\n",
       "      <td>CHESAPEAKE_BAY_RETRIEVER</td>\n",
       "      <td>0.118184</td>\n",
       "    </tr>\n",
       "    <tr>\n",
       "      <th>4</th>\n",
       "      <td>4</td>\n",
       "      <td>890240255349198849</td>\n",
       "      <td>http://twitter.com/download/iphone</td>\n",
       "      <td>This is Cassie. She is a college pup. Studying...</td>\n",
       "      <td>14</td>\n",
       "      <td>Cassie</td>\n",
       "      <td>890240255349198849</td>\n",
       "      <td>Doggo</td>\n",
       "      <td>7300</td>\n",
       "      <td>31553</td>\n",
       "      <td>Jul</td>\n",
       "      <td>2017</td>\n",
       "      <td>https://pbs.twimg.com/media/DFrEyVuW0AAO3t9.jpg</td>\n",
       "      <td>PEMBROKE</td>\n",
       "      <td>0.511319</td>\n",
       "      <td>CARDIGAN</td>\n",
       "      <td>0.451038</td>\n",
       "      <td>CHIHUAHUA</td>\n",
       "      <td>0.029248</td>\n",
       "    </tr>\n",
       "  </tbody>\n",
       "</table>\n",
       "</div>"
      ],
      "text/plain": [
       "   Unnamed: 0            tweet_id                              source  \\\n",
       "0           0  892177421306343426  http://twitter.com/download/iphone   \n",
       "1           1  891815181378084864  http://twitter.com/download/iphone   \n",
       "2           2  891327558926688256  http://twitter.com/download/iphone   \n",
       "3           3  890609185150312448  http://twitter.com/download/iphone   \n",
       "4           4  890240255349198849  http://twitter.com/download/iphone   \n",
       "\n",
       "                                                text  rating_numerator  \\\n",
       "0  This is Tilly. She's just checking pup on you....                13   \n",
       "1  This is Archie. He is a rare Norwegian Pouncin...                12   \n",
       "2  This is Franklin. He would like you to stop ca...                12   \n",
       "3  This is Zoey. She doesn't want to be one of th...                13   \n",
       "4  This is Cassie. She is a college pup. Studying...                14   \n",
       "\n",
       "       name           tweet_id  Dog_state  retweet_count  favorite_count  \\\n",
       "0     Tilly  892177421306343426      None           6199           32846   \n",
       "1    Archie  891815181378084864      None           4101           24743   \n",
       "2  Franklin  891327558926688256      None           9265           39842   \n",
       "3      Zoey  890609185150312448      None           4217           27504   \n",
       "4    Cassie  890240255349198849     Doggo           7300           31553   \n",
       "\n",
       "  Month_start  Year_start                                          jpg_url  \\\n",
       "0         Aug        2017  https://pbs.twimg.com/media/DGGmoV4XsAAUL6n.jpg   \n",
       "1         Jul        2017  https://pbs.twimg.com/media/DGBdLU1WsAANxJ9.jpg   \n",
       "2         Jul        2017  https://pbs.twimg.com/media/DF6hr6BUMAAzZgT.jpg   \n",
       "3         Jul        2017  https://pbs.twimg.com/media/DFwUU__XcAEpyXI.jpg   \n",
       "4         Jul        2017  https://pbs.twimg.com/media/DFrEyVuW0AAO3t9.jpg   \n",
       "\n",
       "              p1   p1_conf                p2   p2_conf  \\\n",
       "0      CHIHUAHUA  0.323581          PEKINESE  0.090647   \n",
       "1      CHIHUAHUA  0.716012          MALAMUTE  0.078253   \n",
       "2         BASSET  0.555712  ENGLISH_SPRINGER  0.225770   \n",
       "3  IRISH_TERRIER  0.487574      IRISH_SETTER  0.193054   \n",
       "4       PEMBROKE  0.511319          CARDIGAN  0.451038   \n",
       "\n",
       "                            p3   p3_conf  \n",
       "0                     PAPILLON  0.068957  \n",
       "1                       KELPIE  0.031379  \n",
       "2  GERMAN_SHORT-HAIRED_POINTER  0.175219  \n",
       "3     CHESAPEAKE_BAY_RETRIEVER  0.118184  \n",
       "4                    CHIHUAHUA  0.029248  "
      ]
     },
     "execution_count": 2,
     "metadata": {},
     "output_type": "execute_result"
    }
   ],
   "source": [
    "df = pd.read_csv('twitter_archive_master.csv')\n",
    "df.head()"
   ]
  },
  {
   "cell_type": "code",
   "execution_count": 15,
   "metadata": {},
   "outputs": [
    {
     "data": {
      "text/plain": [
       "Unnamed: 0          289\n",
       "tweet_id            289\n",
       "source              289\n",
       "text                289\n",
       "rating_numerator    289\n",
       "name                289\n",
       "tweet_id            289\n",
       "Dog_state           112\n",
       "retweet_count       289\n",
       "favorite_count      289\n",
       "Month_start         289\n",
       "Year_start          289\n",
       "jpg_url             289\n",
       "p1                  289\n",
       "p1_conf             289\n",
       "p2                  289\n",
       "p2_conf             289\n",
       "p3                  289\n",
       "p3_conf             289\n",
       "dtype: int64"
      ]
     },
     "execution_count": 15,
     "metadata": {},
     "output_type": "execute_result"
    }
   ],
   "source": [
    "df.count()"
   ]
  },
  {
   "cell_type": "markdown",
   "metadata": {},
   "source": [
    "Número de twitter que tem pontuação maior que 10/10"
   ]
  },
  {
   "cell_type": "code",
   "execution_count": 3,
   "metadata": {},
   "outputs": [
    {
     "data": {
      "text/plain": [
       "<matplotlib.axes._subplots.AxesSubplot at 0x7fbad40ff2b0>"
      ]
     },
     "execution_count": 3,
     "metadata": {},
     "output_type": "execute_result"
    },
    {
     "data": {
      "image/png": "[encoded data removed]",
      "text/plain": [
       "<Figure size 432x288 with 1 Axes>"
      ]
     },
     "metadata": {},
     "output_type": "display_data"
    }
   ],
   "source": [
    "df[\"rating_numerator\"].hist()"
   ]
  },
  {
   "cell_type": "markdown",
   "metadata": {},
   "source": [
    "Quais são as fontes mais utilizadas?"
   ]
  },
  {
   "cell_type": "code",
   "execution_count": 4,
   "metadata": {},
   "outputs": [
    {
     "data": {
      "text/plain": [
       "array(['http://twitter.com/download/iphone', 'http://twitter.com'],\n",
       "      dtype=object)"
      ]
     },
     "execution_count": 4,
     "metadata": {},
     "output_type": "execute_result"
    }
   ],
   "source": [
    "df['source'].unique()"
   ]
  },
  {
   "cell_type": "markdown",
   "metadata": {},
   "source": [
    "Qual é a raça de cachorro que recebe pontuação maior que 15/10 ?"
   ]
  },
  {
   "cell_type": "code",
   "execution_count": 6,
   "metadata": {},
   "outputs": [
    {
     "data": {
      "text/plain": [
       "4           PEMBROKE\n",
       "33    FRENCH_BULLDOG\n",
       "68         CHIHUAHUA\n",
       "Name: p1, dtype: object"
      ]
     },
     "execution_count": 6,
     "metadata": {},
     "output_type": "execute_result"
    }
   ],
   "source": [
    "df[df[\"rating_numerator\"] == 14][\"p1\"]"
   ]
  },
  {
   "cell_type": "code",
   "execution_count": 18,
   "metadata": {},
   "outputs": [
    {
     "data": {
      "text/html": [
       "<div>\n",
       "<style scoped>\n",
       "    .dataframe tbody tr th:only-of-type {\n",
       "        vertical-align: middle;\n",
       "    }\n",
       "\n",
       "    .dataframe tbody tr th {\n",
       "        vertical-align: top;\n",
       "    }\n",
       "\n",
       "    .dataframe thead th {\n",
       "        text-align: right;\n",
       "    }\n",
       "</style>\n",
       "<table border=\"1\" class=\"dataframe\">\n",
       "  <thead>\n",
       "    <tr style=\"text-align: right;\">\n",
       "      <th></th>\n",
       "      <th>Unnamed: 0</th>\n",
       "      <th>tweet_id</th>\n",
       "      <th>source</th>\n",
       "      <th>text</th>\n",
       "      <th>rating_numerator</th>\n",
       "      <th>name</th>\n",
       "      <th>tweet_id</th>\n",
       "      <th>Dog_state</th>\n",
       "      <th>retweet_count</th>\n",
       "      <th>favorite_count</th>\n",
       "      <th>Month_start</th>\n",
       "      <th>Year_start</th>\n",
       "      <th>jpg_url</th>\n",
       "      <th>p1</th>\n",
       "      <th>p1_conf</th>\n",
       "      <th>p2</th>\n",
       "      <th>p2_conf</th>\n",
       "      <th>p3</th>\n",
       "      <th>p3_conf</th>\n",
       "    </tr>\n",
       "  </thead>\n",
       "  <tbody>\n",
       "  </tbody>\n",
       "</table>\n",
       "</div>"
      ],
      "text/plain": [
       "Empty DataFrame\n",
       "Columns: [Unnamed: 0, tweet_id, source, text, rating_numerator, name, tweet_id , Dog_state, retweet_count, favorite_count, Month_start, Year_start, jpg_url, p1, p1_conf, p2, p2_conf, p3, p3_conf]\n",
       "Index: []"
      ]
     },
     "execution_count": 18,
     "metadata": {},
     "output_type": "execute_result"
    }
   ],
   "source": []
  },
  {
   "cell_type": "code",
   "execution_count": 7,
   "metadata": {},
   "outputs": [
    {
     "data": {
      "text/plain": [
       "<matplotlib.axes._subplots.AxesSubplot at 0x7fbad1684be0>"
      ]
     },
     "execution_count": 7,
     "metadata": {},
     "output_type": "execute_result"
    },
    {
     "data": {
      "image/png": "[encoded data removed]",
      "text/plain": [
       "<Figure size 432x288 with 1 Axes>"
      ]
     },
     "metadata": {},
     "output_type": "display_data"
    }
   ],
   "source": [
    "name = \"CHIHUAHUA\"\n",
    "df.query('p1 == @name')['rating_numerator'].hist()"
   ]
  },
  {
   "cell_type": "code",
   "execution_count": 8,
   "metadata": {},
   "outputs": [
    {
     "data": {
      "text/plain": [
       "<matplotlib.axes._subplots.AxesSubplot at 0x7fbad2029ac8>"
      ]
     },
     "execution_count": 8,
     "metadata": {},
     "output_type": "execute_result"
    },
    {
     "data": {
      "image/png": "[encoded data removed]",
      "text/plain": [
       "<Figure size 432x288 with 1 Axes>"
      ]
     },
     "metadata": {},
     "output_type": "display_data"
    }
   ],
   "source": [
    "name2 = \"FRENCH_BULLDOG\"\n",
    "df.query('p1 == @name2')['rating_numerator'].hist()"
   ]
  },
  {
   "cell_type": "code",
   "execution_count": 12,
   "metadata": {},
   "outputs": [
    {
     "data": {
      "text/plain": [
       "4     Cassie\n",
       "33      Emmy\n",
       "68    Cermet\n",
       "Name: name, dtype: object"
      ]
     },
     "execution_count": 12,
     "metadata": {},
     "output_type": "execute_result"
    }
   ],
   "source": [
    "df[df[\"rating_numerator\"] == 14][\"name\"]"
   ]
  },
  {
   "cell_type": "code",
   "execution_count": 9,
   "metadata": {},
   "outputs": [
    {
     "data": {
      "text/plain": [
       "<matplotlib.axes._subplots.AxesSubplot at 0x7fbaca2e2e10>"
      ]
     },
     "execution_count": 9,
     "metadata": {},
     "output_type": "execute_result"
    },
    {
     "data": {
      "image/png": "[encoded data removed]",
      "text/plain": [
       "<Figure size 432x288 with 1 Axes>"
      ]
     },
     "metadata": {},
     "output_type": "display_data"
    }
   ],
   "source": [
    "df.plot.scatter(x='rating_numerator',y='favorite_count')"
   ]
  },
  {
   "cell_type": "code",
   "execution_count": 10,
   "metadata": {},
   "outputs": [
    {
     "data": {
      "text/plain": [
       "<matplotlib.axes._subplots.AxesSubplot at 0x7fbaca2dbe48>"
      ]
     },
     "execution_count": 10,
     "metadata": {},
     "output_type": "execute_result"
    },
    {
     "data": {
      "image/png": "[encoded data removed]",
      "text/plain": [
       "<Figure size 432x288 with 1 Axes>"
      ]
     },
     "metadata": {},
     "output_type": "display_data"
    }
   ],
   "source": [
    "df.plot.scatter(x='rating_numerator',y='retweet_count')"
   ]
  },
  {
   "cell_type": "code",
   "execution_count": 11,
   "metadata": {},
   "outputs": [
    {
     "data": {
      "text/plain": [
       "<matplotlib.axes._subplots.AxesSubplot at 0x7fbaca22db00>"
      ]
     },
     "execution_count": 11,
     "metadata": {},
     "output_type": "execute_result"
    },
    {
     "data": {
      "image/png": "[encoded data removed]",
      "text/plain": [
       "<Figure size 432x288 with 1 Axes>"
      ]
     },
     "metadata": {},
     "output_type": "display_data"
    }
   ],
   "source": [
    "df.plot.scatter(x='favorite_count',y='retweet_count')"
   ]
  },
  {
   "cell_type": "code",
   "execution_count": null,
   "metadata": {},
   "outputs": [],
   "source": []
  }
 ],
 "metadata": {
  "kernelspec": {
   "display_name": "Python 3",
   "language": "python",
   "name": "python3"
  },
  "language_info": {
   "codemirror_mode": {
    "name": "ipython",
    "version": 3
   },
   "file_extension": ".py",
   "mimetype": "text/x-python",
   "name": "python",
   "nbconvert_exporter": "python",
   "pygments_lexer": "ipython3",
   "version": "3.6.4"
  }
 },
 "nbformat": 4,
 "nbformat_minor": 2
}
